{
 "cells": [
  {
   "cell_type": "markdown",
   "id": "d0d2d795-85a2-4668-94e8-b86a4887b0c1",
   "metadata": {},
   "source": [
    "## A workbook for mapping and concensus generation for multiple segments"
   ]
  },
  {
   "cell_type": "markdown",
   "id": "35e6f452-bfd1-4d67-b4a1-899c30b6e270",
   "metadata": {},
   "source": [
    "### Generate the reference"
   ]
  },
  {
   "cell_type": "markdown",
   "id": "9bb34571-db7b-4935-ba2b-7db95c1830f2",
   "metadata": {},
   "source": [
    "```bash\n",
    "efetch -db nuccore -id acc1 acc2 acc3 -format fasta > ref.fasta\n",
    "\n",
    "```\n",
    "\n",
    "The command above will fetch multiple sequences in fasta format from NCBI"
   ]
  },
  {
   "cell_type": "code",
   "execution_count": 2,
   "id": "41593745-05fa-461b-82b4-97f72bc8f545",
   "metadata": {},
   "outputs": [
    {
     "name": "stdout",
     "output_type": "stream",
     "text": [
      ">X14383.1 Bunyamwera virus L protein RNA, complete cds\n",
      ">M11852.1 Bunyamwera virus M polyprotein gene, complete cds\n",
      ">D00353.1 Bunyamwera virus genes for N and NSs protein, complete cds\n"
     ]
    }
   ],
   "source": [
    "!cat refs/genome.fasta | grep \\>"
   ]
  },
  {
   "cell_type": "code",
   "execution_count": 8,
   "id": "2908d232-032e-458f-b50d-77664e4a248e",
   "metadata": {},
   "outputs": [
    {
     "name": "stdout",
     "output_type": "stream",
     "text": [
      "-rw-rw-r-- 1 armand armand 7.6M Apr 26 10:53 bc1_to_7.fastq\n"
     ]
    }
   ],
   "source": [
    "!ls -lh | grep fastq"
   ]
  },
  {
   "cell_type": "markdown",
   "id": "b4ae9581-8fa2-48e3-8034-7ee5da4b214a",
   "metadata": {},
   "source": [
    "## Map to ref with with minimap2"
   ]
  },
  {
   "cell_type": "code",
   "execution_count": 9,
   "id": "49935c17-a25d-4029-9da6-e95064366473",
   "metadata": {},
   "outputs": [
    {
     "name": "stderr",
     "output_type": "stream",
     "text": [
      "[M::mm_idx_gen::0.001*2.16] collected minimizers\n",
      "[M::mm_idx_gen::0.002*2.43] sorted minimizers\n",
      "[M::main::0.002*2.41] loaded/built the index for 3 target sequence(s)\n",
      "[M::mm_mapopt_update::0.002*2.29] mid_occ = 10\n",
      "[M::mm_idx_stat] kmer size: 15; skip: 10; is_hpc: 0; #seq: 3\n",
      "[M::mm_idx_stat::0.002*2.23] distinct minimizers: 2297 (100.00% are singletons); average occurrences: 1.000; average spacing: 5.352; total length: 12294\n",
      "[M::worker_pipeline::0.195*2.76] mapped 5851 sequences\n",
      "[M::main] Version: 2.26-r1175\n",
      "[M::main] CMD: minimap2 -ax map-ont refs/genome.fasta bc1_to_7.fastq\n",
      "[M::main] Real time: 0.196 sec; CPU: 0.540 sec; Peak RSS: 0.022 GB\n"
     ]
    }
   ],
   "source": [
    "%%bash \n",
    "minimap2 -ax map-ont refs/genome.fasta bc1_to_7.fastq | samtools sort -o all_combined.bam\n",
    "samtools index all_combined.bam"
   ]
  },
  {
   "cell_type": "markdown",
   "id": "fb3a589b-d0bc-4244-aea6-e66d6d5e24c4",
   "metadata": {},
   "source": [
    "## Create a bed file for the primers"
   ]
  },
  {
   "cell_type": "markdown",
   "id": "2cb07bb9-1fa4-4752-815f-8ebd310504b3",
   "metadata": {},
   "source": [
    "In this case the primers are in an excell spreadsheet"
   ]
  },
  {
   "cell_type": "code",
   "execution_count": 10,
   "id": "9fc6f750-a561-4793-a30c-fa5c2ed9b32e",
   "metadata": {},
   "outputs": [],
   "source": [
    "import pandas as pd"
   ]
  },
  {
   "cell_type": "code",
   "execution_count": 48,
   "id": "a9f81197-1908-4f88-87cf-a2bc5b1ef993",
   "metadata": {},
   "outputs": [
    {
     "data": {
      "text/plain": [
       "(21, 11)"
      ]
     },
     "execution_count": 48,
     "metadata": {},
     "output_type": "execute_result"
    }
   ],
   "source": [
    "primers_not_used = [\"BUNV_M_msq_R2\", \"BUNV_L_msq_F1\"]\n",
    "primerDf = pd.read_excel('BUNV primer sets_updated 240328.xlsx', skiprows=2, header=None)\n",
    "primerDf = primerDf[~primerDf[0].isin(primers_not_used)]\n",
    "primerDf.dropna(inplace=True, subset=[0])\n",
    "primerDf.shape"
   ]
  },
  {
   "cell_type": "code",
   "execution_count": 38,
   "id": "16577f51-1241-411d-9346-0c8ffb628ea2",
   "metadata": {},
   "outputs": [
    {
     "name": "stdout",
     "output_type": "stream",
     "text": [
      ">BUNV_S_F1\n",
      "AGTAGTGTACTCCACACTA\n",
      ">BUNV_S_msq_F2\n",
      "CTCAGTGGATTCCTTGC\n",
      ">BUNV_S_msq_R1\n",
      "GTTCCTARGAACATYTCTGATC\n",
      ">BUNV_S_msq_R1_alt\n",
      "GTHCCTARGAACATYTCWGABCC\n",
      ">BUNV_S_R2\n",
      "AGTAGTGTGCTCCACC\n",
      ">BUNV_M_F1\n",
      "AGTAGTGTACTACCGATACA\n",
      ">BUNV_M_msq_F2\n",
      "GCAACGARTGCAATATGTAC\n",
      ">BUNV_M_msq_F3\n",
      "CTCCCGCATATAAAACCAG\n",
      ">BUNV_M_msq_R1\n",
      "GGTGCAATTAAAGGCCC\n",
      ">BUNV_M_msq_R2_alt\n",
      "CTGGCTGTTATGAATGCC\n",
      ">BUNV_M_R3\n",
      "AGTAGTGTGCTACCGATA\n",
      ">BUNV_L_msq_F1_alt\n",
      "CAGTAGGAGTATGGAGGAC\n",
      ">BUNV_L_msq_F2\n",
      "GATTGCCAGGTCAACTG\n",
      ">BUNV_L_msq_F3\n",
      "GAAACARCATGTCAATCTACC\n",
      ">BUNV_L_msq_F4\n",
      "GGAAGGAAATACCAGTTGAG\n",
      ">BUNV_L_msq_F5\n",
      "GAAGAGGCAAGCAGATTG\n",
      ">BUNV_L_msq_R1\n",
      "CTATACATTGCCAGAAGCAAG\n",
      ">BUNV_L_msq_R2\n",
      "GCCCTATAATTGCAATGTTG\n",
      ">BUNV_L_msq_R3\n",
      "CAAGCCGACTAATGCTATC\n",
      ">BUNV_L_msq_R4\n",
      "GTCTGCCAGTTATTCCATG\n",
      ">BUNV_L_R5\n",
      "AGTAGTGTGCTCCTACATA\n"
     ]
    }
   ],
   "source": [
    "with open(\"primers.fasta\", \"w\") as f:\n",
    "    for r in range(primerDf.shape[0]):\n",
    "        header = primerDf.iloc[r, 0]\n",
    "        sequence = primerDf.iloc[r, 2]\n",
    "        f.write(f'>{header}\\n')\n",
    "        f.write(f'{sequence}\\n')\n",
    "!cat primers.fasta"
   ]
  },
  {
   "cell_type": "code",
   "execution_count": 47,
   "id": "f5d9c550-179a-413d-8f85-c126a5789b20",
   "metadata": {},
   "outputs": [
    {
     "name": "stderr",
     "output_type": "stream",
     "text": [
      "[bwa_index] Pack FASTA... 0.00 sec\n",
      "[bwa_index] Construct BWT for the packed sequence...\n",
      "[bwa_index] 0.00 seconds elapse.\n",
      "[bwa_index] Update BWT... 0.00 sec\n",
      "[bwa_index] Pack forward-only FASTA... 0.00 sec\n",
      "[bwa_index] Construct SA from BWT and Occ... 0.00 sec\n",
      "[main] Version: 0.7.17-r1198-dirty\n",
      "[main] CMD: bwa index refs/genome.fasta\n",
      "[main] Real time: 0.362 sec; CPU: 0.005 sec\n",
      "[M::bwa_idx_load_from_disk] read 0 ALT contigs\n",
      "[M::process] read 21 sequences (402 bp)...\n",
      "[M::mem_process_seqs] Processed 21 reads in 0.002 CPU sec, 0.002 real sec\n",
      "[main] Version: 0.7.17-r1198-dirty\n",
      "[main] CMD: bwa mem -k 4 -T 12 refs/genome.fasta primers.fasta\n",
      "[main] Real time: 0.002 sec; CPU: 0.003 sec\n"
     ]
    }
   ],
   "source": [
    "%%bash\n",
    "\n",
    "bwa index refs/genome.fasta\n",
    "bwa mem -k 4 -T 12 refs/genome.fasta primers.fasta | samtools sort -o primers.bam\n",
    "samtools index primers.bam\n",
    "bedtools bamtobed -i primers.bam > primers.bed"
   ]
  },
  {
   "cell_type": "markdown",
   "id": "36e1274a-1969-49f9-a418-aff8afb51c47",
   "metadata": {},
   "source": [
    "You may have to tweak the -k and -T parameters"
   ]
  },
  {
   "cell_type": "code",
   "execution_count": 49,
   "id": "cc52d8ab-3d8e-4357-a643-022ca749500c",
   "metadata": {},
   "outputs": [
    {
     "name": "stdout",
     "output_type": "stream",
     "text": [
      "21 primers.bed\n"
     ]
    }
   ],
   "source": [
    "!wc -l primers.bed"
   ]
  },
  {
   "cell_type": "markdown",
   "id": "c0b60d5b-73ed-45c3-ab67-b1743e219ed5",
   "metadata": {},
   "source": [
    "We had 21 primers in our fasta file and the same number in our bed file"
   ]
  },
  {
   "cell_type": "markdown",
   "id": "12847696-b4c4-4ed3-8309-0456b98c02b4",
   "metadata": {},
   "source": [
    "## Trim the primers with ivar and confirm in something like IGV"
   ]
  },
  {
   "cell_type": "code",
   "execution_count": 50,
   "id": "4d422ec7-72a6-4c2f-9173-a5a158be1c03",
   "metadata": {},
   "outputs": [
    {
     "name": "stdout",
     "output_type": "stream",
     "text": [
      "Found 21 primers in BED file\n",
      "Reading from all_combined.bam\n",
      "\n",
      "-------\n",
      "Results: \n",
      "Primer Name\tRead Count\n",
      "BUNV_L_msq_F1_alt\t110\n",
      "BUNV_L_msq_F2\t394\n",
      "BUNV_L_msq_R1\t127\n",
      "BUNV_L_msq_F3\t130\n",
      "BUNV_L_msq_R2\t158\n",
      "BUNV_L_msq_F4\t13\n",
      "BUNV_L_msq_R3\t46\n",
      "BUNV_L_msq_F5\t155\n",
      "BUNV_L_msq_R4\t155\n",
      "BUNV_L_R5\t175\n",
      "BUNV_M_F1\t219\n",
      "BUNV_M_msq_F2\t18\n",
      "BUNV_M_msq_R1\t48\n",
      "BUNV_M_msq_F3\t145\n",
      "BUNV_M_msq_R2_alt\t19\n",
      "BUNV_M_R3\t309\n",
      "BUNV_S_F1\t0\n",
      "BUNV_S_msq_F2\t1317\n",
      "BUNV_S_msq_R1_alt\t177\n",
      "BUNV_S_msq_R1\t0\n",
      "BUNV_S_R2\t1355\n",
      "\n",
      "Trimmed primers from 88.72% (3161) of reads.\n",
      "0% (0) of reads were quality trimmed below the minimum length of 10 bp and were not written to file.\n",
      "11.28% (402) of reads that started outside of primer regions were not written to file\n",
      "2871 unmapped reads were not written to file.\n",
      "100% (3563) of reads had their insert size smaller than their read length\n"
     ]
    }
   ],
   "source": [
    "!ivar trim -i all_combined.bam -b primers.bed -m 10 -q 0 | samtools sort -o all_combined_ptimmed.bam\n",
    "!samtools index all_combined_ptimmed.bam"
   ]
  },
  {
   "cell_type": "markdown",
   "id": "3c55fd33-d441-45e7-bc87-d3ea03b12133",
   "metadata": {},
   "source": [
    "!['igv img primers trimmed'](igv_snapshot_primers_trimmed.png)"
   ]
  },
  {
   "cell_type": "markdown",
   "id": "3ec6c0e6-c918-43fb-8b2f-00b21c9a033f",
   "metadata": {},
   "source": [
    "Above you can see the effect of trimming primers on depth"
   ]
  },
  {
   "cell_type": "markdown",
   "id": "976d9817-492f-47d5-9c80-60a2762cff19",
   "metadata": {},
   "source": [
    "## Consensus calling"
   ]
  },
  {
   "cell_type": "code",
   "execution_count": 5,
   "id": "68cf1bee-ec3b-4f03-b417-109c31dffbfd",
   "metadata": {},
   "outputs": [],
   "source": [
    "%%bash\n",
    "\n",
    "samtools consensus -f fasta all_combined_ptimmed.bam -o all_combined_ptimmed_draft.fasta"
   ]
  },
  {
   "cell_type": "markdown",
   "id": "114d2e3c-4aff-47fe-b4c6-577577661d63",
   "metadata": {},
   "source": [
    "## Polish with medaka"
   ]
  },
  {
   "cell_type": "code",
   "execution_count": 8,
   "id": "bce75312-68dd-4614-a1bd-8b9ee524ec8c",
   "metadata": {},
   "outputs": [
    {
     "name": "stdout",
     "output_type": "stream",
     "text": [
      "TF_CPP_MIN_LOG_LEVEL is set to '3'\n",
      "Checking program versions\n",
      "This is medaka 1.11.3\n",
      "Program    Version    Required   Pass     \n",
      "bcftools   1.17       1.11       True     \n",
      "bgzip      1.17       1.11       True     \n",
      "minimap2   2.26       2.11       True     \n",
      "samtools   1.18       1.11       True     \n",
      "tabix      1.17       1.11       True     \n",
      "[10:28:30 - MdlStrTF] Successfully removed temporary files from /tmp/tmpycxtx3_r.\n",
      "[10:28:30 - MdlStrTF] Successfully removed temporary files from /tmp/tmp5csuqof2.\n",
      "Aligning basecalls to draft\n",
      "Creating fai index file /storage/1T/NGS2/ONT_sequencing/BUNW-WGS/all_combined_ptimmed_draft.fasta.fai\n",
      "Creating mmi index file /storage/1T/NGS2/ONT_sequencing/BUNW-WGS/all_combined_ptimmed_draft.fasta.map-ont.mmi\n",
      "[M::mm_idx_gen::0.001*1.81] collected minimizers\n",
      "[M::mm_idx_gen::0.002*2.11] sorted minimizers\n",
      "[M::main::0.002*1.71] loaded/built the index for 3 target sequence(s)\n",
      "[M::mm_idx_stat] kmer size: 15; skip: 10; is_hpc: 0; #seq: 3\n",
      "[M::mm_idx_stat::0.002*1.69] distinct minimizers: 2208 (100.00% are singletons); average occurrences: 1.000; average spacing: 5.519; total length: 12186\n",
      "[M::main] Version: 2.26-r1175\n",
      "[M::main] CMD: minimap2 -I 16G -x map-ont -d /storage/1T/NGS2/ONT_sequencing/BUNW-WGS/all_combined_ptimmed_draft.fasta.map-ont.mmi /storage/1T/NGS2/ONT_sequencing/BUNW-WGS/all_combined_ptimmed_draft.fasta\n",
      "[M::main] Real time: 0.003 sec; CPU: 0.005 sec; Peak RSS: 0.004 GB\n",
      "[M::main::0.002*1.48] loaded/built the index for 3 target sequence(s)\n",
      "[M::mm_mapopt_update::0.002*1.45] mid_occ = 10\n",
      "[M::mm_idx_stat] kmer size: 15; skip: 10; is_hpc: 0; #seq: 3\n",
      "[M::mm_idx_stat::0.002*1.42] distinct minimizers: 2208 (100.00% are singletons); average occurrences: 1.000; average spacing: 5.519; total length: 12186\n",
      "[M::worker_pipeline::0.534*0.92] mapped 5851 sequences\n",
      "[M::main] Version: 2.26-r1175\n",
      "[M::main] CMD: minimap2 -x map-ont --secondary=no -L --MD -A 2 -B 4 -O 4,24 -E 2,1 -t 1 -a /storage/1T/NGS2/ONT_sequencing/BUNW-WGS/all_combined_ptimmed_draft.fasta.map-ont.mmi /storage/1T/NGS2/ONT_sequencing/BUNW-WGS/bc1_to_7.fastq\n",
      "[M::main] Real time: 0.534 sec; CPU: 0.492 sec; Peak RSS: 0.015 GB\n",
      "Running medaka consensus\n",
      "[10:28:32 - Predict] Setting tensorflow inter/intra-op threads to 1/1.\n",
      "[10:28:32 - Predict] Processing region(s): X14383.1:0-6839 M11852.1:0-4422 D00353.1:0-925\n",
      "[10:28:32 - Predict] Using model: /home/armand/anaconda3/envs/ont/lib/python3.10/site-packages/medaka/data/r1041_e82_400bps_sup_v4.2.0_model.tar.gz.\n",
      "[10:28:32 - Predict] Found a GPU.\n",
      "[10:28:32 - Predict] If cuDNN errors are observed, try setting the environment variable `TF_FORCE_GPU_ALLOW_GROWTH=true`. To explicitely disable use of cuDNN use the commandline option `--disable_cudnn. If OOM (out of memory) errors are found please reduce batch size.\n",
      "[10:28:32 - BAMFile] Creating pool of 16 BAM file sets.\n",
      "[10:28:32 - Predict] Processing 3 short region(s).\n",
      "[10:28:32 - ModelLoad] GPU available: building model with cudnn optimization\n",
      "[10:28:33 - MdlStrTF] Model <keras.engine.sequential.Sequential object at 0x7f35d1e41090>\n",
      "[10:28:33 - MdlStrTF] loading weights from /tmp/tmpxovn3ykl/model/variables/variables (using expect partial)\n",
      "[10:28:33 - Sampler] Initializing sampler for consensus of region X14383.1:0-6839.\n",
      "[10:28:33 - Sampler] Initializing sampler for consensus of region M11852.1:0-4422.\n",
      "[10:28:33 - PWorker] Running inference for 0.0M draft bases.\n",
      "[10:28:33 - Feature] Pileup counts do not span requested region, requested X14383.1:0-6839, received 0-6837.\n",
      "[10:28:34 - Feature] Processed M11852.1:0.0-4421.0 (median depth 62.0)\n",
      "[10:28:34 - Feature] Processed X14383.1:0.0-6837.0 (median depth 109.0)\n",
      "[10:28:34 - Sampler] Took 1.52s to make features.\n",
      "[10:28:34 - Sampler] Took 1.55s to make features.\n",
      "[10:28:35 - Sampler] Initializing sampler for consensus of region D00353.1:0-925.\n",
      "[10:28:35 - Feature] Processed D00353.1:0.0-924.0 (median depth 1281.0)\n",
      "[10:28:35 - Sampler] Took 0.16s to make features.\n",
      "[10:28:36 - PWorker] Processed 3 batches\n",
      "[10:28:36 - PWorker] All done, 0 remainder regions.\n",
      "[10:28:36 - Predict] Finished processing all regions.\n",
      "[10:28:36 - MdlStrTF] Successfully removed temporary files from /tmp/tmpxovn3ykl.\n",
      "[10:28:37 - DataIndx] Loaded 1/1 (100.00%) sample files.\n",
      "[10:28:37 - Stitcher] Stitching D00353.1:0-925\n",
      "[10:28:37 - Stitcher] Stitching M11852.1:0-4422\n",
      "[10:28:37 - Stitcher] Stitching X14383.1:0-6839\n",
      "Polished assembly written to medaka/consensus.fasta, have a nice day.\n"
     ]
    }
   ],
   "source": [
    "!medaka_consensus -i bc1_to_7.fastq -d all_combined_ptimmed_draft.fasta -m r1041_e82_400bps_sup_v4.2.0 -f"
   ]
  },
  {
   "cell_type": "code",
   "execution_count": null,
   "id": "b4d9e7b0-37ae-4aa8-978a-c75901d9bbaa",
   "metadata": {},
   "outputs": [],
   "source": []
  }
 ],
 "metadata": {
  "kernelspec": {
   "display_name": "Python 3 (ipykernel)",
   "language": "python",
   "name": "python3"
  },
  "language_info": {
   "codemirror_mode": {
    "name": "ipython",
    "version": 3
   },
   "file_extension": ".py",
   "mimetype": "text/x-python",
   "name": "python",
   "nbconvert_exporter": "python",
   "pygments_lexer": "ipython3",
   "version": "3.10.8"
  }
 },
 "nbformat": 4,
 "nbformat_minor": 5
}
